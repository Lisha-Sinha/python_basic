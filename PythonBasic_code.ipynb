{
  "nbformat": 4,
  "nbformat_minor": 0,
  "metadata": {
    "colab": {
      "provenance": []
    },
    "kernelspec": {
      "name": "python3",
      "display_name": "Python 3"
    },
    "language_info": {
      "name": "python"
    }
  },
  "cells": [
    {
      "cell_type": "code",
      "execution_count": null,
      "metadata": {
        "id": "JOXG8XWFBxxM"
      },
      "outputs": [],
      "source": []
    },
    {
      "cell_type": "markdown",
      "source": [
        "# code"
      ],
      "metadata": {
        "id": "mZ7_XQMGB3o8"
      }
    },
    {
      "cell_type": "markdown",
      "source": [
        "**question 1** Write a Python program to print \"Hello, World!?"
      ],
      "metadata": {
        "id": "ZZRBjyV0B9KQ"
      }
    },
    {
      "cell_type": "code",
      "source": [
        "print(\"Hello, World!\")"
      ],
      "metadata": {
        "colab": {
          "base_uri": "https://localhost:8080/"
        },
        "id": "XD_jWMkkCDvj",
        "outputId": "24125c78-ec41-40e0-d75a-8cfb4c3cddeb"
      },
      "execution_count": 1,
      "outputs": [
        {
          "output_type": "stream",
          "name": "stdout",
          "text": [
            "Hello, World!\n"
          ]
        }
      ]
    },
    {
      "cell_type": "markdown",
      "source": [
        "**question 2**Write a Python program that displays your name and age?"
      ],
      "metadata": {
        "id": "g3UIFUXXCNcO"
      }
    },
    {
      "cell_type": "code",
      "source": [
        "name = \"lisha\"\n",
        "age = 22\n",
        "print(\"My name is\", name)\n",
        "print(\"I am\", age, \"years old\")\n"
      ],
      "metadata": {
        "colab": {
          "base_uri": "https://localhost:8080/"
        },
        "id": "_pAT7AUeCS0B",
        "outputId": "4545b19f-32b8-4654-f003-48316b2ef30b"
      },
      "execution_count": 4,
      "outputs": [
        {
          "output_type": "stream",
          "name": "stdout",
          "text": [
            "My name is lisha\n",
            "I am 22 years old\n"
          ]
        }
      ]
    },
    {
      "cell_type": "markdown",
      "source": [
        "**question 3** Write code to print all the pre-defined keywords in Python using the keyword library?"
      ],
      "metadata": {
        "id": "1ChJTEKdDC8T"
      }
    },
    {
      "cell_type": "code",
      "source": [
        "import keyword\n",
        "print(\"Python Keywords:\")\n",
        "for kw in keyword.kwlist:\n",
        "  print(kw)"
      ],
      "metadata": {
        "colab": {
          "base_uri": "https://localhost:8080/"
        },
        "id": "KeH4aGgvDJPB",
        "outputId": "41b2ac58-fc85-4ff3-df44-e6c894143fca"
      },
      "execution_count": 5,
      "outputs": [
        {
          "output_type": "stream",
          "name": "stdout",
          "text": [
            "Python Keywords:\n",
            "False\n",
            "None\n",
            "True\n",
            "and\n",
            "as\n",
            "assert\n",
            "async\n",
            "await\n",
            "break\n",
            "class\n",
            "continue\n",
            "def\n",
            "del\n",
            "elif\n",
            "else\n",
            "except\n",
            "finally\n",
            "for\n",
            "from\n",
            "global\n",
            "if\n",
            "import\n",
            "in\n",
            "is\n",
            "lambda\n",
            "nonlocal\n",
            "not\n",
            "or\n",
            "pass\n",
            "raise\n",
            "return\n",
            "try\n",
            "while\n",
            "with\n",
            "yield\n"
          ]
        }
      ]
    },
    {
      "cell_type": "markdown",
      "source": [],
      "metadata": {
        "id": "KKKxHg_oDjKs"
      }
    },
    {
      "cell_type": "markdown",
      "source": [
        "**question 4**  Write a program that checks if a given word is a Python keyword?"
      ],
      "metadata": {
        "id": "Usu2VzkkDjNo"
      }
    },
    {
      "cell_type": "code",
      "source": [
        "import keyword\n",
        "word = input(\"Enter a word to check: \")\n",
        "if keyword.iskeyword(word):\n",
        "    print(f\"'{word}' is a Python keyword.\")\n",
        "else:\n",
        "    print(f\"'{word}' is NOT a Python keyword.\")"
      ],
      "metadata": {
        "colab": {
          "base_uri": "https://localhost:8080/"
        },
        "id": "cBHOwadfDrDC",
        "outputId": "df70f490-a438-458f-a44a-2c5f6ef60af8"
      },
      "execution_count": 6,
      "outputs": [
        {
          "output_type": "stream",
          "name": "stdout",
          "text": [
            "Enter a word to check: input\n",
            "'input' is NOT a Python keyword.\n"
          ]
        }
      ]
    },
    {
      "cell_type": "markdown",
      "source": [
        "**question 5** Create a list and tuple in Python, and demonstrate how attempting to change an element works differently for each?"
      ],
      "metadata": {
        "id": "vqdW1nxOD3zd"
      }
    },
    {
      "cell_type": "code",
      "source": [
        "my_list = [10, 20, 30]\n",
        "print(\"Original List:\", my_list)\n",
        "my_list[1] = 99\n",
        "print(\"Modified List:\", my_list)\n",
        "my_tuple = (10, 20, 30)\n",
        "print(\"\\nOriginal Tuple:\", my_tuple)\n",
        "\n",
        "try:\n",
        "    my_tuple[1] = 99\n",
        "except TypeError as e:\n",
        "    print(\"Error:\", e)"
      ],
      "metadata": {
        "colab": {
          "base_uri": "https://localhost:8080/"
        },
        "id": "QZ5hqOSwD-VT",
        "outputId": "88f7d63c-ad9e-4559-cf6e-9366c342f413"
      },
      "execution_count": 7,
      "outputs": [
        {
          "output_type": "stream",
          "name": "stdout",
          "text": [
            "Original List: [10, 20, 30]\n",
            "Modified List: [10, 99, 30]\n",
            "\n",
            "Original Tuple: (10, 20, 30)\n",
            "Error: 'tuple' object does not support item assignment\n"
          ]
        }
      ]
    },
    {
      "cell_type": "markdown",
      "source": [
        "**question 6** Write a function to demonstrate the behavior of mutable and immutable arguments?"
      ],
      "metadata": {
        "id": "MoswGURQEK_S"
      }
    },
    {
      "cell_type": "code",
      "source": [
        "def modify_values(immutable_var, mutable_var):\n",
        "    immutable_var += 10\n",
        "    mutable_var.append(4)\n",
        "    print(\"Inside function - Immutable:\", immutable_var)\n",
        "    print(\"Inside function - Mutable:\", mutable_var)\n",
        "num = 5\n",
        "num_list = [1, 2, 3]\n",
        "modify_values(num, num_list)\n",
        "print(\"\\nAfter function call - Immutable:\", num)\n",
        "print(\"After function call - Mutable:\", num_list)"
      ],
      "metadata": {
        "colab": {
          "base_uri": "https://localhost:8080/"
        },
        "id": "AdPZSD9SERAD",
        "outputId": "dbae34fe-f612-4fbc-924c-0d87b888d07b"
      },
      "execution_count": 8,
      "outputs": [
        {
          "output_type": "stream",
          "name": "stdout",
          "text": [
            "Inside function - Immutable: 15\n",
            "Inside function - Mutable: [1, 2, 3, 4]\n",
            "\n",
            "After function call - Immutable: 5\n",
            "After function call - Mutable: [1, 2, 3, 4]\n"
          ]
        }
      ]
    },
    {
      "cell_type": "markdown",
      "source": [
        "**question 7** Write a program that performs basic arithmetic operations on two user-input numbers"
      ],
      "metadata": {
        "id": "yMdeCRzpEof5"
      }
    },
    {
      "cell_type": "code",
      "source": [
        "num1 = float(input(\"Enter the first number: \"))\n",
        "num2 = float(input(\"Enter the second number: \"))\n",
        "addition = num1 + num2\n",
        "subtraction = num1 - num2\n",
        "multiplication = num1 * num2\n",
        "division = num1 / num2 if num2 != 0 else \"Undefined (division by zero)\"\n",
        "modulus = num1 % num2 if num2 != 0 else \"Undefined (modulus by zeroo)\"\n",
        "print(\"\\nArithmetic Operations:\")\n",
        "print(f\"Addition: {num1} + {num2} = {addition}\")\n",
        "print(f\"Subtraction: {num1} - {num2} = {subtraction}\")\n",
        "print(f\"Multiplication: {num1} * {num2} = {multiplication}\")\n",
        "print(f\"Division: {num1} / {num2} = {division}\")\n",
        "print(f\"Modulus: {num1} % {num2} = {modulus}\")"
      ],
      "metadata": {
        "colab": {
          "base_uri": "https://localhost:8080/"
        },
        "id": "XdnF8O5vEsc5",
        "outputId": "df2293b6-4548-4b99-a072-0c43c59f1305"
      },
      "execution_count": 9,
      "outputs": [
        {
          "output_type": "stream",
          "name": "stdout",
          "text": [
            "Enter the first number: 10\n",
            "Enter the second number: 5\n",
            "\n",
            "Arithmetic Operations:\n",
            "Addition: 10.0 + 5.0 = 15.0\n",
            "Subtraction: 10.0 - 5.0 = 5.0\n",
            "Multiplication: 10.0 * 5.0 = 50.0\n",
            "Division: 10.0 / 5.0 = 2.0\n",
            "Modulus: 10.0 % 5.0 = 0.0\n"
          ]
        }
      ]
    },
    {
      "cell_type": "markdown",
      "source": [
        "**question 8** Write a program to demonstrate the use of logical operators."
      ],
      "metadata": {
        "id": "LpE17ZXrE8Pl"
      }
    },
    {
      "cell_type": "code",
      "source": [
        "a = int(input(\"Enter first number: \"))\n",
        "b = int(input(\"Enter second number: \"))\n",
        "print(\"\\nLogical AND:\")\n",
        "print(f\"{a} > 0 and {b} > 0:\", (a > 0 and b > 0))\n",
        "print(\"\\nLogical OR:\")\n",
        "print(f\"{a} > 0 or {b} > 0:\", (a > 0 or b > 0))\n",
        "print(\"\\nLogical NOT:\")\n",
        "print(f\"not({a} > 0):\", not (a > 0))\n",
        "print(f\"not({b} > 0):\", not (b > 0))"
      ],
      "metadata": {
        "colab": {
          "base_uri": "https://localhost:8080/"
        },
        "id": "2xwZX6u9E-7Y",
        "outputId": "c6c3851b-e3da-4434-81da-6857b59416f6"
      },
      "execution_count": 10,
      "outputs": [
        {
          "output_type": "stream",
          "name": "stdout",
          "text": [
            "Enter first number: 10\n",
            "Enter second number: 5\n",
            "\n",
            "Logical AND:\n",
            "10 > 0 and 5 > 0: True\n",
            "\n",
            "Logical OR:\n",
            "10 > 0 or 5 > 0: True\n",
            "\n",
            "Logical NOT:\n",
            "not(10 > 0): False\n",
            "not(5 > 0): False\n"
          ]
        }
      ]
    },
    {
      "cell_type": "markdown",
      "source": [
        "**question 9** Write a Python program to convert user input from string to integer, float, and boolean types"
      ],
      "metadata": {
        "id": "2lPPSjVGFNir"
      }
    },
    {
      "cell_type": "code",
      "source": [
        "user_input = input(\"Enter a value: \")\n",
        "try:\n",
        "    int_value = int(user_input)\n",
        "    print(\"Integer:\", int_value)\n",
        "except ValueError:\n",
        "    print(\"Cannot convert to Integer.\")\n",
        "try:\n",
        "    float_value = float(user_input)\n",
        "    print(\"Float:\", float_value)\n",
        "except ValueError:\n",
        "    print(\"Cannot convert to Float.\")\n",
        "bool_value = bool(user_input)\n",
        "print(\"Boolean:\",bool_value)"
      ],
      "metadata": {
        "colab": {
          "base_uri": "https://localhost:8080/"
        },
        "id": "x_jsHcCIFRUa",
        "outputId": "6a621e1f-bd2e-4c8e-e077-285c0cd0ba1f"
      },
      "execution_count": 11,
      "outputs": [
        {
          "output_type": "stream",
          "name": "stdout",
          "text": [
            "Enter a value: 20\n",
            "Integer: 20\n",
            "Float: 20.0\n",
            "Boolean: True\n"
          ]
        }
      ]
    },
    {
      "cell_type": "markdown",
      "source": [
        "**question 10** Write code to demonstrate type casting with list elements"
      ],
      "metadata": {
        "id": "WT-X8uxCFk6_"
      }
    },
    {
      "cell_type": "code",
      "source": [
        "string_list = [\"10\", \"20\", \"30\", \"40.5\", \"50.7\"]\n",
        "int_list = [int(float(item)) for item in string_list]\n",
        "print(\"Converted to Integers:\", int_list)\n",
        "float_list = [float(item) for item in string_list]\n",
        "print(\"Converted to Floats:\", float_list)\n",
        "str_list = [str(num) for num in int_list]\n",
        "print(\"Converted to Strings:\",str_list)\n",
        "num_list = [0, 1, -5, 3.14, 0.0, 100]\n",
        "bool_list = [bool(num) for num in num_list]\n",
        "print(\"Converted to Booleans:\",bool_list)"
      ],
      "metadata": {
        "colab": {
          "base_uri": "https://localhost:8080/"
        },
        "id": "iHTqT0LtFodH",
        "outputId": "ecc317d9-35e1-4ab6-9e4d-5678508f2992"
      },
      "execution_count": 14,
      "outputs": [
        {
          "output_type": "stream",
          "name": "stdout",
          "text": [
            "Converted to Integers: [10, 20, 30, 40, 50]\n",
            "Converted to Floats: [10.0, 20.0, 30.0, 40.5, 50.7]\n",
            "Converted to Strings: ['10', '20', '30', '40', '50']\n",
            "Converted to Booleans: [False, True, True, True, False, True]\n"
          ]
        }
      ]
    },
    {
      "cell_type": "markdown",
      "source": [
        "**question 11** .Write a program that checks if a number is positive, negative, or zero."
      ],
      "metadata": {
        "id": "wHzvirPRGJbl"
      }
    },
    {
      "cell_type": "code",
      "source": [
        "num = float(input(\"Enter a number: \"))\n",
        "if num > 0:\n",
        "    print(\"The number is Positive.\")\n",
        "elif num < 0:\n",
        "    print(\"The number is Negative.\")\n",
        "else:\n",
        "    print(\"The number is Zero.\")"
      ],
      "metadata": {
        "colab": {
          "base_uri": "https://localhost:8080/"
        },
        "id": "HrzIdntzGPMJ",
        "outputId": "fff64e30-8997-4bcc-c1d0-cc83cdefceec"
      },
      "execution_count": 15,
      "outputs": [
        {
          "output_type": "stream",
          "name": "stdout",
          "text": [
            "Enter a number: 50\n",
            "The number is Positive.\n"
          ]
        }
      ]
    },
    {
      "cell_type": "markdown",
      "source": [
        "**question 12** Write a for loop to print numbers from 1 to 10."
      ],
      "metadata": {
        "id": "3wiuUYfiGXQX"
      }
    },
    {
      "cell_type": "code",
      "source": [
        "for num in range(1, 11):\n",
        "  print(num)"
      ],
      "metadata": {
        "colab": {
          "base_uri": "https://localhost:8080/"
        },
        "id": "qSq4q11gGd7B",
        "outputId": "a2ea27b2-6b9e-4447-e0d2-6aa44979348c"
      },
      "execution_count": 17,
      "outputs": [
        {
          "output_type": "stream",
          "name": "stdout",
          "text": [
            "1\n",
            "2\n",
            "3\n",
            "4\n",
            "5\n",
            "6\n",
            "7\n",
            "8\n",
            "9\n",
            "10\n"
          ]
        }
      ]
    },
    {
      "cell_type": "markdown",
      "source": [
        "**question 13**Write a Python program to find the sum of all even numbers between 1 and 50"
      ],
      "metadata": {
        "id": "bR68aOo7Gnte"
      }
    },
    {
      "cell_type": "code",
      "source": [
        "even_sum = 0\n",
        "for num in range(2, 51, 2):\n",
        "    even_sum += num\n",
        "print(\"Sum of all even numbers between 1 and 50:\",even_sum)"
      ],
      "metadata": {
        "colab": {
          "base_uri": "https://localhost:8080/"
        },
        "id": "r2N09YpSGtao",
        "outputId": "ec68dd1a-dcb5-4167-f51c-3a7d68a556fa"
      },
      "execution_count": 18,
      "outputs": [
        {
          "output_type": "stream",
          "name": "stdout",
          "text": [
            "Sum of all even numbers between 1 and 50: 650\n"
          ]
        }
      ]
    },
    {
      "cell_type": "markdown",
      "source": [
        "**question 14**Write a program to reverse a string using a while loop"
      ],
      "metadata": {
        "id": "6U8AqG6ZG-fb"
      }
    },
    {
      "cell_type": "code",
      "source": [
        "original_string = input(\"Enter a string: \")\n",
        "reversed_string = \"\"\n",
        "index = len(original_string) - 1\n",
        "while index >= 0:\n",
        "    reversed_string += original_string[index]\n",
        "    index -= 1\n",
        "print(\"Reversed String:\", reversed_string)"
      ],
      "metadata": {
        "colab": {
          "base_uri": "https://localhost:8080/"
        },
        "id": "OFPBS_ZzHO2t",
        "outputId": "0f0e8bfe-4f3e-4322-8158-dd5c1ffc9b4b"
      },
      "execution_count": 19,
      "outputs": [
        {
          "output_type": "stream",
          "name": "stdout",
          "text": [
            "Enter a string: hello\n",
            "Reversed String: olleh\n"
          ]
        }
      ]
    },
    {
      "cell_type": "markdown",
      "source": [
        "**question 15** Write a Python program to calculate the factorial of a number provided by the user using a while loop."
      ],
      "metadata": {
        "id": "5vVV7-hrHr3Y"
      }
    },
    {
      "cell_type": "code",
      "source": [
        "num = int(input(\"Enter a number: \"))\n",
        "factorial = 1\n",
        "i = num\n",
        "while i > 0:\n",
        "    factorial *= i\n",
        "    i -= 1\n",
        "print(f\"Factorial of {num} is: {factorial}\")"
      ],
      "metadata": {
        "colab": {
          "base_uri": "https://localhost:8080/"
        },
        "id": "mNc6SG2SHyHu",
        "outputId": "fcfec457-1a21-48fe-eb7c-0e338ab4935a"
      },
      "execution_count": 21,
      "outputs": [
        {
          "output_type": "stream",
          "name": "stdout",
          "text": [
            "Enter a number: 20\n",
            "Factorial of 20 is: 2432902008176640000\n"
          ]
        }
      ]
    }
  ]
}