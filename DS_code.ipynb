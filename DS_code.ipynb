{
  "nbformat": 4,
  "nbformat_minor": 0,
  "metadata": {
    "colab": {
      "provenance": []
    },
    "kernelspec": {
      "name": "python3",
      "display_name": "Python 3"
    },
    "language_info": {
      "name": "python"
    }
  },
  "cells": [
    {
      "cell_type": "markdown",
      "source": [
        "# code"
      ],
      "metadata": {
        "id": "SeZCE3jQDAa8"
      }
    },
    {
      "cell_type": "markdown",
      "source": [
        "1.Write a code to create a string with your name and print i"
      ],
      "metadata": {
        "id": "U9uEdJ_1DDPk"
      }
    },
    {
      "cell_type": "code",
      "source": [
        "\n",
        "my_name = \"Lisha Sinha\"\n",
        "print(my_name)"
      ],
      "metadata": {
        "colab": {
          "base_uri": "https://localhost:8080/"
        },
        "id": "8A3tN-LeDKbO",
        "outputId": "a1fd3136-b53a-4d53-a9ab-294544bca709"
      },
      "execution_count": 1,
      "outputs": [
        {
          "output_type": "stream",
          "name": "stdout",
          "text": [
            "Lisha Sinha\n"
          ]
        }
      ]
    },
    {
      "cell_type": "markdown",
      "source": [
        "2.Write a code to find the length of the string \"Hello World\""
      ],
      "metadata": {
        "id": "XU-G79ZLDVXW"
      }
    },
    {
      "cell_type": "code",
      "source": [
        "\n",
        "my_string = \"Hello World\"\n",
        "print(len(my_string))"
      ],
      "metadata": {
        "colab": {
          "base_uri": "https://localhost:8080/"
        },
        "id": "_MKlTJSlDYnx",
        "outputId": "2b8672c6-81f5-48bb-a0c1-cdaf0c6de082"
      },
      "execution_count": 2,
      "outputs": [
        {
          "output_type": "stream",
          "name": "stdout",
          "text": [
            "11\n"
          ]
        }
      ]
    },
    {
      "cell_type": "markdown",
      "source": [
        "3.Write a code to slice the first 3 characters from the string \"Python Programming"
      ],
      "metadata": {
        "id": "ZUN5g2fbDmmY"
      }
    },
    {
      "cell_type": "code",
      "source": [
        "\n",
        "my_string = \"Python Programming\"\n",
        "sliced_string = my_string[:3]\n",
        "print(sliced_string)"
      ],
      "metadata": {
        "colab": {
          "base_uri": "https://localhost:8080/"
        },
        "id": "umXe1tu0Dp_W",
        "outputId": "59d94ff5-a064-4d72-d1a1-a0dec1ca0936"
      },
      "execution_count": 3,
      "outputs": [
        {
          "output_type": "stream",
          "name": "stdout",
          "text": [
            "Pyt\n"
          ]
        }
      ]
    },
    {
      "cell_type": "markdown",
      "source": [
        "4.Write a code to convert the string \"hello\" to uppercase"
      ],
      "metadata": {
        "id": "HAQeqCX3DynP"
      }
    },
    {
      "cell_type": "code",
      "source": [
        "\n",
        "my_string = \"hello\"\n",
        "uppercase_string = my_string.upper()\n",
        "print(uppercase_string)"
      ],
      "metadata": {
        "colab": {
          "base_uri": "https://localhost:8080/"
        },
        "id": "SgtXie_qD0OZ",
        "outputId": "718543c9-fc14-40b3-caca-1e2e76fd90d6"
      },
      "execution_count": 4,
      "outputs": [
        {
          "output_type": "stream",
          "name": "stdout",
          "text": [
            "HELLO\n"
          ]
        }
      ]
    },
    {
      "cell_type": "markdown",
      "source": [
        "5.Write a code to replace the word \"apple\" with \"orange\" in the string \"I like apple\""
      ],
      "metadata": {
        "id": "ie5-XnLQD8yj"
      }
    },
    {
      "cell_type": "code",
      "source": [
        "\n",
        "my_string = \"I like apple\"\n",
        "\n",
        "\n",
        "new_string = my_string.replace(\"apple\", \"orange\")\n",
        "\n",
        "\n",
        "print(new_string)"
      ],
      "metadata": {
        "colab": {
          "base_uri": "https://localhost:8080/"
        },
        "id": "3xfiQYYCD_hZ",
        "outputId": "fdd8105b-80ae-48cd-c46b-d24c6e61bba5"
      },
      "execution_count": 5,
      "outputs": [
        {
          "output_type": "stream",
          "name": "stdout",
          "text": [
            "I like orange\n"
          ]
        }
      ]
    },
    {
      "cell_type": "markdown",
      "source": [
        "6.Write a code to create a list with numbers 1 to 5 and print it"
      ],
      "metadata": {
        "id": "BAF-6Af7EFda"
      }
    },
    {
      "cell_type": "code",
      "source": [
        "\n",
        "numbers = [1, 2, 3, 4, 5]\n",
        "\n",
        "\n",
        "print(numbers)"
      ],
      "metadata": {
        "colab": {
          "base_uri": "https://localhost:8080/"
        },
        "id": "mbpqZdmZEILK",
        "outputId": "cab7f1b4-05e6-48a6-9bb8-03ac37eda6af"
      },
      "execution_count": 6,
      "outputs": [
        {
          "output_type": "stream",
          "name": "stdout",
          "text": [
            "[1, 2, 3, 4, 5]\n"
          ]
        }
      ]
    },
    {
      "cell_type": "markdown",
      "source": [
        "7.Write a code to append the number 10 to the list [1, 2, 3, 4]"
      ],
      "metadata": {
        "id": "OyLO76MFEfTy"
      }
    },
    {
      "cell_type": "code",
      "source": [
        "\n",
        "numbers = [1, 2, 3, 4]\n",
        "numbers.append(10)\n",
        "print(numbers)"
      ],
      "metadata": {
        "colab": {
          "base_uri": "https://localhost:8080/"
        },
        "id": "hYhesYsVEgi4",
        "outputId": "4631825b-cc88-464c-9742-93aafaa8b83d"
      },
      "execution_count": 7,
      "outputs": [
        {
          "output_type": "stream",
          "name": "stdout",
          "text": [
            "[1, 2, 3, 4, 10]\n"
          ]
        }
      ]
    },
    {
      "cell_type": "markdown",
      "source": [
        "8.Write a code to remove the number 3 from the list [1, 2, 3, 4, 5]"
      ],
      "metadata": {
        "id": "hvLMDK7-EnRd"
      }
    },
    {
      "cell_type": "code",
      "source": [
        "\n",
        "numbers = [1, 2, 3, 4, 5]\n",
        "numbers.remove(3)\n",
        "print(numbers)"
      ],
      "metadata": {
        "colab": {
          "base_uri": "https://localhost:8080/"
        },
        "id": "570UpjOQEq83",
        "outputId": "09ef6d0c-c215-4688-bb6b-87764bdc210a"
      },
      "execution_count": 8,
      "outputs": [
        {
          "output_type": "stream",
          "name": "stdout",
          "text": [
            "[1, 2, 4, 5]\n"
          ]
        }
      ]
    },
    {
      "cell_type": "markdown",
      "source": [
        "9.Write a code to access the second element in the list ['a', 'b', 'c', 'd']"
      ],
      "metadata": {
        "id": "LIsg3RhdEwrd"
      }
    },
    {
      "cell_type": "code",
      "source": [
        "\n",
        "letters = ['a', 'b', 'c', 'd']\n",
        "second_element = letters[1]\n",
        "print(second_element)"
      ],
      "metadata": {
        "colab": {
          "base_uri": "https://localhost:8080/"
        },
        "id": "leaeA1L6EzkE",
        "outputId": "21e9d2ea-3f52-4de8-e152-a7ad4673eea6"
      },
      "execution_count": 9,
      "outputs": [
        {
          "output_type": "stream",
          "name": "stdout",
          "text": [
            "b\n"
          ]
        }
      ]
    },
    {
      "cell_type": "markdown",
      "source": [
        "10.Write a code to reverse the list [10, 20, 30, 40, 50]."
      ],
      "metadata": {
        "id": "ky0LVflDE8Pu"
      }
    },
    {
      "cell_type": "code",
      "source": [
        "\n",
        "numbers = [10, 20, 30, 40, 50]\n",
        "numbers.reverse()\n",
        "print(numbers)"
      ],
      "metadata": {
        "colab": {
          "base_uri": "https://localhost:8080/"
        },
        "id": "e0QYjiqOE-1R",
        "outputId": "4c114b7a-59b1-4b58-d17f-8d5439c5b0bf"
      },
      "execution_count": 10,
      "outputs": [
        {
          "output_type": "stream",
          "name": "stdout",
          "text": [
            "[50, 40, 30, 20, 10]\n"
          ]
        }
      ]
    }
  ]
}